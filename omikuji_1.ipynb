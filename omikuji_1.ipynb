{
 "cells": [
  {
   "cell_type": "code",
   "execution_count": 53,
   "metadata": {},
   "outputs": [
    {
     "data": {
      "text/plain": [
       "['大凶', '凶', '末吉', '小吉', '中吉', '吉', '大吉', '永吉']"
      ]
     },
     "execution_count": 53,
     "metadata": {},
     "output_type": "execute_result"
    }
   ],
   "source": [
    "#データの形を決める\n",
    "#リストを使います。配列とも言いますが。\n",
    "omikuji=['大凶','凶','末吉','小吉','中吉','吉','大吉','永吉']\n",
    "omikuji"
   ]
  },
  {
   "cell_type": "code",
   "execution_count": 54,
   "metadata": {},
   "outputs": [
    {
     "data": {
      "text/plain": [
       "'大吉'"
      ]
     },
     "execution_count": 54,
     "metadata": {},
     "output_type": "execute_result"
    }
   ],
   "source": [
    "#リストを1つ表示してみる\n",
    "#omikuji[0]\n",
    "omikuji[6]"
   ]
  },
  {
   "cell_type": "code",
   "execution_count": 55,
   "metadata": {},
   "outputs": [
    {
     "name": "stdout",
     "output_type": "stream",
     "text": [
      "大凶\n",
      "凶\n",
      "末吉\n",
      "小吉\n",
      "中吉\n",
      "吉\n",
      "大吉\n",
      "永吉\n"
     ]
    }
   ],
   "source": [
    "#リストを連続で表記する\n",
    "for a in omikuji:\n",
    "  print(a)\n",
    "\n",
    "#何番目か知っておきたい"
   ]
  },
  {
   "cell_type": "code",
   "execution_count": 56,
   "metadata": {},
   "outputs": [
    {
     "name": "stdout",
     "output_type": "stream",
     "text": [
      "0 大凶\n",
      "1 凶\n",
      "2 末吉\n",
      "3 小吉\n",
      "4 中吉\n",
      "5 吉\n",
      "6 大吉\n",
      "7 永吉\n"
     ]
    }
   ],
   "source": [
    "#リストを連続で表現しながら、何番目の要素かも知る\n",
    "for i,a in enumerate(omikuji):\n",
    "  print(i,a)"
   ]
  },
  {
   "cell_type": "code",
   "execution_count": 46,
   "metadata": {},
   "outputs": [
    {
     "data": {
      "text/plain": [
       "6"
      ]
     },
     "execution_count": 46,
     "metadata": {},
     "output_type": "execute_result"
    }
   ],
   "source": [
    "#ランダムにおみくじを引くためには、乱数を使ってランダム性を演出する\n",
    "import random\n",
    "random.randint(1,8) #任意の範囲の整数をランダムに出す"
   ]
  },
  {
   "cell_type": "code",
   "execution_count": 62,
   "metadata": {},
   "outputs": [
    {
     "data": {
      "text/plain": [
       "'小吉'"
      ]
     },
     "execution_count": 62,
     "metadata": {},
     "output_type": "execute_result"
    }
   ],
   "source": [
    "#おみくじをランダムに表記する\n",
    "fuda = random.randint(1,8) - 1\n",
    "#fuda は文字だと怒られる。\n",
    "#整数に置き換える\n",
    "fuda = int(fuda)\n",
    "omikuji[fuda]"
   ]
  }
 ],
 "metadata": {
  "kernelspec": {
   "display_name": "Python 3.8.13 ('base')",
   "language": "python",
   "name": "python3"
  },
  "language_info": {
   "codemirror_mode": {
    "name": "ipython",
    "version": 3
   },
   "file_extension": ".py",
   "mimetype": "text/x-python",
   "name": "python",
   "nbconvert_exporter": "python",
   "pygments_lexer": "ipython3",
   "version": "3.8.13"
  },
  "orig_nbformat": 4,
  "vscode": {
   "interpreter": {
    "hash": "729e5b9397ea79fc241addedc3cc6e68f2db71722f171ad2525489759075c4fe"
   }
  }
 },
 "nbformat": 4,
 "nbformat_minor": 2
}
