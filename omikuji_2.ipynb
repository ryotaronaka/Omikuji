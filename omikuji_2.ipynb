{
 "cells": [
  {
   "cell_type": "code",
   "execution_count": 5,
   "metadata": {},
   "outputs": [
    {
     "name": "stdout",
     "output_type": "stream",
     "text": [
      "吉\n"
     ]
    }
   ],
   "source": [
    "import random\n",
    "\n",
    "#札を準備する\n",
    "omikuji=['大凶','凶','末吉','小吉','中吉','吉','大吉','永吉']\n",
    "\n",
    "#ランダムに札番号を決める\n",
    "fuda = random.randint(1,8) - 1\n",
    "\n",
    "#fuda は文字だと怒られるので、整数に置き換える\n",
    "fuda = int(fuda)\n",
    "\n",
    "#おみくじ結果を表示\n",
    "print(omikuji[fuda])"
   ]
  }
 ],
 "metadata": {
  "kernelspec": {
   "display_name": "Python 3.8.10 64-bit (microsoft store)",
   "language": "python",
   "name": "python3"
  },
  "language_info": {
   "codemirror_mode": {
    "name": "ipython",
    "version": 3
   },
   "file_extension": ".py",
   "mimetype": "text/x-python",
   "name": "python",
   "nbconvert_exporter": "python",
   "pygments_lexer": "ipython3",
   "version": "3.8.10"
  },
  "orig_nbformat": 4,
  "vscode": {
   "interpreter": {
    "hash": "ed65e63336bcc67652178a3e2f2e0589ab12ce74d246992ce6899b32292b47f0"
   }
  }
 },
 "nbformat": 4,
 "nbformat_minor": 2
}
